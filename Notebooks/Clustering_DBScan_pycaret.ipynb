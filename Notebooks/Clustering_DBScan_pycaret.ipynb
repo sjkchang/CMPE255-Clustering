{
  "nbformat": 4,
  "nbformat_minor": 0,
  "metadata": {
    "colab": {
      "provenance": []
    },
    "kernelspec": {
      "name": "python3",
      "display_name": "Python 3"
    },
    "language_info": {
      "name": "python"
    },
    "widgets": {
      "application/vnd.jupyter.widget-state+json": {
        "c426cd34c30b4f0382539d2fd972862d": {
          "model_module": "@jupyter-widgets/controls",
          "model_name": "HBoxModel",
          "model_module_version": "1.5.0",
          "state": {
            "_dom_classes": [],
            "_model_module": "@jupyter-widgets/controls",
            "_model_module_version": "1.5.0",
            "_model_name": "HBoxModel",
            "_view_count": null,
            "_view_module": "@jupyter-widgets/controls",
            "_view_module_version": "1.5.0",
            "_view_name": "HBoxView",
            "box_style": "",
            "children": [
              "IPY_MODEL_4638836f48f241ee8f4518668d8d5df8",
              "IPY_MODEL_0f8cc7290f8b4902955090e77a644cf0",
              "IPY_MODEL_1ee5944a92b74af5a4acaa3dd6a2bd4b"
            ],
            "layout": "IPY_MODEL_f57480fa464c4abb92991671a78d6832"
          }
        },
        "4638836f48f241ee8f4518668d8d5df8": {
          "model_module": "@jupyter-widgets/controls",
          "model_name": "HTMLModel",
          "model_module_version": "1.5.0",
          "state": {
            "_dom_classes": [],
            "_model_module": "@jupyter-widgets/controls",
            "_model_module_version": "1.5.0",
            "_model_name": "HTMLModel",
            "_view_count": null,
            "_view_module": "@jupyter-widgets/controls",
            "_view_module_version": "1.5.0",
            "_view_name": "HTMLView",
            "description": "",
            "description_tooltip": null,
            "layout": "IPY_MODEL_59396f458654428db1c2f7df46697426",
            "placeholder": "​",
            "style": "IPY_MODEL_7c51a1c4407c4aea956a88547e58bbc2",
            "value": "Processing:   0%"
          }
        },
        "0f8cc7290f8b4902955090e77a644cf0": {
          "model_module": "@jupyter-widgets/controls",
          "model_name": "FloatProgressModel",
          "model_module_version": "1.5.0",
          "state": {
            "_dom_classes": [],
            "_model_module": "@jupyter-widgets/controls",
            "_model_module_version": "1.5.0",
            "_model_name": "FloatProgressModel",
            "_view_count": null,
            "_view_module": "@jupyter-widgets/controls",
            "_view_module_version": "1.5.0",
            "_view_name": "ProgressView",
            "bar_style": "",
            "description": "",
            "description_tooltip": null,
            "layout": "IPY_MODEL_31dc478d95314daab018204b55a2525b",
            "max": 3,
            "min": 0,
            "orientation": "horizontal",
            "style": "IPY_MODEL_1d731968d286450696f67b46a0b908b5",
            "value": 3
          }
        },
        "1ee5944a92b74af5a4acaa3dd6a2bd4b": {
          "model_module": "@jupyter-widgets/controls",
          "model_name": "HTMLModel",
          "model_module_version": "1.5.0",
          "state": {
            "_dom_classes": [],
            "_model_module": "@jupyter-widgets/controls",
            "_model_module_version": "1.5.0",
            "_model_name": "HTMLModel",
            "_view_count": null,
            "_view_module": "@jupyter-widgets/controls",
            "_view_module_version": "1.5.0",
            "_view_name": "HTMLView",
            "description": "",
            "description_tooltip": null,
            "layout": "IPY_MODEL_78535a4c00804f45aeaa6fea9b999462",
            "placeholder": "​",
            "style": "IPY_MODEL_d6548bbd63e14f398d9dc4489aed607d",
            "value": " 0/3 [00:00&lt;?, ?it/s]"
          }
        },
        "f57480fa464c4abb92991671a78d6832": {
          "model_module": "@jupyter-widgets/base",
          "model_name": "LayoutModel",
          "model_module_version": "1.2.0",
          "state": {
            "_model_module": "@jupyter-widgets/base",
            "_model_module_version": "1.2.0",
            "_model_name": "LayoutModel",
            "_view_count": null,
            "_view_module": "@jupyter-widgets/base",
            "_view_module_version": "1.2.0",
            "_view_name": "LayoutView",
            "align_content": null,
            "align_items": null,
            "align_self": null,
            "border": null,
            "bottom": null,
            "display": null,
            "flex": null,
            "flex_flow": null,
            "grid_area": null,
            "grid_auto_columns": null,
            "grid_auto_flow": null,
            "grid_auto_rows": null,
            "grid_column": null,
            "grid_gap": null,
            "grid_row": null,
            "grid_template_areas": null,
            "grid_template_columns": null,
            "grid_template_rows": null,
            "height": null,
            "justify_content": null,
            "justify_items": null,
            "left": null,
            "margin": null,
            "max_height": null,
            "max_width": null,
            "min_height": null,
            "min_width": null,
            "object_fit": null,
            "object_position": null,
            "order": null,
            "overflow": null,
            "overflow_x": null,
            "overflow_y": null,
            "padding": null,
            "right": null,
            "top": null,
            "visibility": "hidden",
            "width": null
          }
        },
        "59396f458654428db1c2f7df46697426": {
          "model_module": "@jupyter-widgets/base",
          "model_name": "LayoutModel",
          "model_module_version": "1.2.0",
          "state": {
            "_model_module": "@jupyter-widgets/base",
            "_model_module_version": "1.2.0",
            "_model_name": "LayoutModel",
            "_view_count": null,
            "_view_module": "@jupyter-widgets/base",
            "_view_module_version": "1.2.0",
            "_view_name": "LayoutView",
            "align_content": null,
            "align_items": null,
            "align_self": null,
            "border": null,
            "bottom": null,
            "display": null,
            "flex": null,
            "flex_flow": null,
            "grid_area": null,
            "grid_auto_columns": null,
            "grid_auto_flow": null,
            "grid_auto_rows": null,
            "grid_column": null,
            "grid_gap": null,
            "grid_row": null,
            "grid_template_areas": null,
            "grid_template_columns": null,
            "grid_template_rows": null,
            "height": null,
            "justify_content": null,
            "justify_items": null,
            "left": null,
            "margin": null,
            "max_height": null,
            "max_width": null,
            "min_height": null,
            "min_width": null,
            "object_fit": null,
            "object_position": null,
            "order": null,
            "overflow": null,
            "overflow_x": null,
            "overflow_y": null,
            "padding": null,
            "right": null,
            "top": null,
            "visibility": null,
            "width": null
          }
        },
        "7c51a1c4407c4aea956a88547e58bbc2": {
          "model_module": "@jupyter-widgets/controls",
          "model_name": "DescriptionStyleModel",
          "model_module_version": "1.5.0",
          "state": {
            "_model_module": "@jupyter-widgets/controls",
            "_model_module_version": "1.5.0",
            "_model_name": "DescriptionStyleModel",
            "_view_count": null,
            "_view_module": "@jupyter-widgets/base",
            "_view_module_version": "1.2.0",
            "_view_name": "StyleView",
            "description_width": ""
          }
        },
        "31dc478d95314daab018204b55a2525b": {
          "model_module": "@jupyter-widgets/base",
          "model_name": "LayoutModel",
          "model_module_version": "1.2.0",
          "state": {
            "_model_module": "@jupyter-widgets/base",
            "_model_module_version": "1.2.0",
            "_model_name": "LayoutModel",
            "_view_count": null,
            "_view_module": "@jupyter-widgets/base",
            "_view_module_version": "1.2.0",
            "_view_name": "LayoutView",
            "align_content": null,
            "align_items": null,
            "align_self": null,
            "border": null,
            "bottom": null,
            "display": null,
            "flex": null,
            "flex_flow": null,
            "grid_area": null,
            "grid_auto_columns": null,
            "grid_auto_flow": null,
            "grid_auto_rows": null,
            "grid_column": null,
            "grid_gap": null,
            "grid_row": null,
            "grid_template_areas": null,
            "grid_template_columns": null,
            "grid_template_rows": null,
            "height": null,
            "justify_content": null,
            "justify_items": null,
            "left": null,
            "margin": null,
            "max_height": null,
            "max_width": null,
            "min_height": null,
            "min_width": null,
            "object_fit": null,
            "object_position": null,
            "order": null,
            "overflow": null,
            "overflow_x": null,
            "overflow_y": null,
            "padding": null,
            "right": null,
            "top": null,
            "visibility": null,
            "width": null
          }
        },
        "1d731968d286450696f67b46a0b908b5": {
          "model_module": "@jupyter-widgets/controls",
          "model_name": "ProgressStyleModel",
          "model_module_version": "1.5.0",
          "state": {
            "_model_module": "@jupyter-widgets/controls",
            "_model_module_version": "1.5.0",
            "_model_name": "ProgressStyleModel",
            "_view_count": null,
            "_view_module": "@jupyter-widgets/base",
            "_view_module_version": "1.2.0",
            "_view_name": "StyleView",
            "bar_color": null,
            "description_width": ""
          }
        },
        "78535a4c00804f45aeaa6fea9b999462": {
          "model_module": "@jupyter-widgets/base",
          "model_name": "LayoutModel",
          "model_module_version": "1.2.0",
          "state": {
            "_model_module": "@jupyter-widgets/base",
            "_model_module_version": "1.2.0",
            "_model_name": "LayoutModel",
            "_view_count": null,
            "_view_module": "@jupyter-widgets/base",
            "_view_module_version": "1.2.0",
            "_view_name": "LayoutView",
            "align_content": null,
            "align_items": null,
            "align_self": null,
            "border": null,
            "bottom": null,
            "display": null,
            "flex": null,
            "flex_flow": null,
            "grid_area": null,
            "grid_auto_columns": null,
            "grid_auto_flow": null,
            "grid_auto_rows": null,
            "grid_column": null,
            "grid_gap": null,
            "grid_row": null,
            "grid_template_areas": null,
            "grid_template_columns": null,
            "grid_template_rows": null,
            "height": null,
            "justify_content": null,
            "justify_items": null,
            "left": null,
            "margin": null,
            "max_height": null,
            "max_width": null,
            "min_height": null,
            "min_width": null,
            "object_fit": null,
            "object_position": null,
            "order": null,
            "overflow": null,
            "overflow_x": null,
            "overflow_y": null,
            "padding": null,
            "right": null,
            "top": null,
            "visibility": null,
            "width": null
          }
        },
        "d6548bbd63e14f398d9dc4489aed607d": {
          "model_module": "@jupyter-widgets/controls",
          "model_name": "DescriptionStyleModel",
          "model_module_version": "1.5.0",
          "state": {
            "_model_module": "@jupyter-widgets/controls",
            "_model_module_version": "1.5.0",
            "_model_name": "DescriptionStyleModel",
            "_view_count": null,
            "_view_module": "@jupyter-widgets/base",
            "_view_module_version": "1.2.0",
            "_view_name": "StyleView",
            "description_width": ""
          }
        }
      }
    }
  },
  "cells": [
    {
      "cell_type": "code",
      "execution_count": null,
      "metadata": {
        "id": "Ns7C6wmM0ZxF"
      },
      "outputs": [],
      "source": [
        "!pip install pycaret"
      ]
    },
    {
      "cell_type": "code",
      "source": [
        "from google.colab import drive\n",
        "drive.mount('/content/drive')\n",
        "%cd /content/drive/MyDrive/Colab Notebooks/Datasets/255-Datasets/Clustering"
      ],
      "metadata": {
        "colab": {
          "base_uri": "https://localhost:8080/"
        },
        "id": "TSRbgJwR0iOq",
        "outputId": "5c286f9c-51c4-4329-eaca-5eafbed466b8"
      },
      "execution_count": null,
      "outputs": [
        {
          "output_type": "stream",
          "name": "stdout",
          "text": [
            "Drive already mounted at /content/drive; to attempt to forcibly remount, call drive.mount(\"/content/drive\", force_remount=True).\n",
            "/content/drive/MyDrive/Colab Notebooks/Datasets/255-Datasets/Clustering/CreditCard\n"
          ]
        }
      ]
    },
    {
      "cell_type": "code",
      "source": [
        "%ls"
      ],
      "metadata": {
        "colab": {
          "base_uri": "https://localhost:8080/"
        },
        "id": "teK8e43N0jtm",
        "outputId": "4662c0bb-d841-4a1a-ab12-6c886ce1bd12"
      },
      "execution_count": null,
      "outputs": [
        {
          "output_type": "stream",
          "name": "stdout",
          "text": [
            "cc_info.csv  transactions.csv\n"
          ]
        }
      ]
    },
    {
      "cell_type": "code",
      "source": [
        "# Import necessary libraries\n",
        "from pycaret.clustering import *\n",
        "\n",
        "# Read the dataset\n",
        "import pandas as pd\n",
        "data = pd.read_csv('penguins.csv')\n",
        "\n",
        "# Setup the PyCaret environment\n",
        "clu_setup = setup(data, normalize = True,\n",
        "                  ignore_features = ['species'],\n",
        "                  session_id = 123)\n",
        "\n",
        "# Create a model using DBSCAN\n",
        "dbscan_model = create_model('dbscan', eps=0.5, min_samples=5)\n",
        "\n",
        "# Assign labels to the dataset\n",
        "dbscan_results = assign_model(dbscan_model)\n",
        "\n",
        "# Output the results\n",
        "print(dbscan_results.head())"
      ],
      "metadata": {
        "colab": {
          "base_uri": "https://localhost:8080/",
          "height": 973,
          "referenced_widgets": [
            "c426cd34c30b4f0382539d2fd972862d",
            "4638836f48f241ee8f4518668d8d5df8",
            "0f8cc7290f8b4902955090e77a644cf0",
            "1ee5944a92b74af5a4acaa3dd6a2bd4b",
            "f57480fa464c4abb92991671a78d6832",
            "59396f458654428db1c2f7df46697426",
            "7c51a1c4407c4aea956a88547e58bbc2",
            "31dc478d95314daab018204b55a2525b",
            "1d731968d286450696f67b46a0b908b5",
            "78535a4c00804f45aeaa6fea9b999462",
            "d6548bbd63e14f398d9dc4489aed607d"
          ]
        },
        "id": "7b-6FBt61i02",
        "outputId": "98decc78-1bb0-4ec7-fae5-0a56b555307c"
      },
      "execution_count": null,
      "outputs": [
        {
          "output_type": "display_data",
          "data": {
            "text/plain": [
              "<pandas.io.formats.style.Styler at 0x7dba5c73cdc0>"
            ],
            "text/html": [
              "<style type=\"text/css\">\n",
              "#T_ae41e_row7_col1, #T_ae41e_row13_col1 {\n",
              "  background-color: lightgreen;\n",
              "}\n",
              "</style>\n",
              "<table id=\"T_ae41e\" class=\"dataframe\">\n",
              "  <thead>\n",
              "    <tr>\n",
              "      <th class=\"blank level0\" >&nbsp;</th>\n",
              "      <th id=\"T_ae41e_level0_col0\" class=\"col_heading level0 col0\" >Description</th>\n",
              "      <th id=\"T_ae41e_level0_col1\" class=\"col_heading level0 col1\" >Value</th>\n",
              "    </tr>\n",
              "  </thead>\n",
              "  <tbody>\n",
              "    <tr>\n",
              "      <th id=\"T_ae41e_level0_row0\" class=\"row_heading level0 row0\" >0</th>\n",
              "      <td id=\"T_ae41e_row0_col0\" class=\"data row0 col0\" >Session id</td>\n",
              "      <td id=\"T_ae41e_row0_col1\" class=\"data row0 col1\" >123</td>\n",
              "    </tr>\n",
              "    <tr>\n",
              "      <th id=\"T_ae41e_level0_row1\" class=\"row_heading level0 row1\" >1</th>\n",
              "      <td id=\"T_ae41e_row1_col0\" class=\"data row1 col0\" >Original data shape</td>\n",
              "      <td id=\"T_ae41e_row1_col1\" class=\"data row1 col1\" >(344, 5)</td>\n",
              "    </tr>\n",
              "    <tr>\n",
              "      <th id=\"T_ae41e_level0_row2\" class=\"row_heading level0 row2\" >2</th>\n",
              "      <td id=\"T_ae41e_row2_col0\" class=\"data row2 col0\" >Transformed data shape</td>\n",
              "      <td id=\"T_ae41e_row2_col1\" class=\"data row2 col1\" >(344, 7)</td>\n",
              "    </tr>\n",
              "    <tr>\n",
              "      <th id=\"T_ae41e_level0_row3\" class=\"row_heading level0 row3\" >3</th>\n",
              "      <td id=\"T_ae41e_row3_col0\" class=\"data row3 col0\" >Ignore features</td>\n",
              "      <td id=\"T_ae41e_row3_col1\" class=\"data row3 col1\" >1</td>\n",
              "    </tr>\n",
              "    <tr>\n",
              "      <th id=\"T_ae41e_level0_row4\" class=\"row_heading level0 row4\" >4</th>\n",
              "      <td id=\"T_ae41e_row4_col0\" class=\"data row4 col0\" >Numeric features</td>\n",
              "      <td id=\"T_ae41e_row4_col1\" class=\"data row4 col1\" >4</td>\n",
              "    </tr>\n",
              "    <tr>\n",
              "      <th id=\"T_ae41e_level0_row5\" class=\"row_heading level0 row5\" >5</th>\n",
              "      <td id=\"T_ae41e_row5_col0\" class=\"data row5 col0\" >Categorical features</td>\n",
              "      <td id=\"T_ae41e_row5_col1\" class=\"data row5 col1\" >1</td>\n",
              "    </tr>\n",
              "    <tr>\n",
              "      <th id=\"T_ae41e_level0_row6\" class=\"row_heading level0 row6\" >6</th>\n",
              "      <td id=\"T_ae41e_row6_col0\" class=\"data row6 col0\" >Rows with missing values</td>\n",
              "      <td id=\"T_ae41e_row6_col1\" class=\"data row6 col1\" >2.6%</td>\n",
              "    </tr>\n",
              "    <tr>\n",
              "      <th id=\"T_ae41e_level0_row7\" class=\"row_heading level0 row7\" >7</th>\n",
              "      <td id=\"T_ae41e_row7_col0\" class=\"data row7 col0\" >Preprocess</td>\n",
              "      <td id=\"T_ae41e_row7_col1\" class=\"data row7 col1\" >True</td>\n",
              "    </tr>\n",
              "    <tr>\n",
              "      <th id=\"T_ae41e_level0_row8\" class=\"row_heading level0 row8\" >8</th>\n",
              "      <td id=\"T_ae41e_row8_col0\" class=\"data row8 col0\" >Imputation type</td>\n",
              "      <td id=\"T_ae41e_row8_col1\" class=\"data row8 col1\" >simple</td>\n",
              "    </tr>\n",
              "    <tr>\n",
              "      <th id=\"T_ae41e_level0_row9\" class=\"row_heading level0 row9\" >9</th>\n",
              "      <td id=\"T_ae41e_row9_col0\" class=\"data row9 col0\" >Numeric imputation</td>\n",
              "      <td id=\"T_ae41e_row9_col1\" class=\"data row9 col1\" >mean</td>\n",
              "    </tr>\n",
              "    <tr>\n",
              "      <th id=\"T_ae41e_level0_row10\" class=\"row_heading level0 row10\" >10</th>\n",
              "      <td id=\"T_ae41e_row10_col0\" class=\"data row10 col0\" >Categorical imputation</td>\n",
              "      <td id=\"T_ae41e_row10_col1\" class=\"data row10 col1\" >mode</td>\n",
              "    </tr>\n",
              "    <tr>\n",
              "      <th id=\"T_ae41e_level0_row11\" class=\"row_heading level0 row11\" >11</th>\n",
              "      <td id=\"T_ae41e_row11_col0\" class=\"data row11 col0\" >Maximum one-hot encoding</td>\n",
              "      <td id=\"T_ae41e_row11_col1\" class=\"data row11 col1\" >-1</td>\n",
              "    </tr>\n",
              "    <tr>\n",
              "      <th id=\"T_ae41e_level0_row12\" class=\"row_heading level0 row12\" >12</th>\n",
              "      <td id=\"T_ae41e_row12_col0\" class=\"data row12 col0\" >Encoding method</td>\n",
              "      <td id=\"T_ae41e_row12_col1\" class=\"data row12 col1\" >None</td>\n",
              "    </tr>\n",
              "    <tr>\n",
              "      <th id=\"T_ae41e_level0_row13\" class=\"row_heading level0 row13\" >13</th>\n",
              "      <td id=\"T_ae41e_row13_col0\" class=\"data row13 col0\" >Normalize</td>\n",
              "      <td id=\"T_ae41e_row13_col1\" class=\"data row13 col1\" >True</td>\n",
              "    </tr>\n",
              "    <tr>\n",
              "      <th id=\"T_ae41e_level0_row14\" class=\"row_heading level0 row14\" >14</th>\n",
              "      <td id=\"T_ae41e_row14_col0\" class=\"data row14 col0\" >Normalize method</td>\n",
              "      <td id=\"T_ae41e_row14_col1\" class=\"data row14 col1\" >zscore</td>\n",
              "    </tr>\n",
              "    <tr>\n",
              "      <th id=\"T_ae41e_level0_row15\" class=\"row_heading level0 row15\" >15</th>\n",
              "      <td id=\"T_ae41e_row15_col0\" class=\"data row15 col0\" >CPU Jobs</td>\n",
              "      <td id=\"T_ae41e_row15_col1\" class=\"data row15 col1\" >-1</td>\n",
              "    </tr>\n",
              "    <tr>\n",
              "      <th id=\"T_ae41e_level0_row16\" class=\"row_heading level0 row16\" >16</th>\n",
              "      <td id=\"T_ae41e_row16_col0\" class=\"data row16 col0\" >Use GPU</td>\n",
              "      <td id=\"T_ae41e_row16_col1\" class=\"data row16 col1\" >False</td>\n",
              "    </tr>\n",
              "    <tr>\n",
              "      <th id=\"T_ae41e_level0_row17\" class=\"row_heading level0 row17\" >17</th>\n",
              "      <td id=\"T_ae41e_row17_col0\" class=\"data row17 col0\" >Log Experiment</td>\n",
              "      <td id=\"T_ae41e_row17_col1\" class=\"data row17 col1\" >False</td>\n",
              "    </tr>\n",
              "    <tr>\n",
              "      <th id=\"T_ae41e_level0_row18\" class=\"row_heading level0 row18\" >18</th>\n",
              "      <td id=\"T_ae41e_row18_col0\" class=\"data row18 col0\" >Experiment Name</td>\n",
              "      <td id=\"T_ae41e_row18_col1\" class=\"data row18 col1\" >cluster-default-name</td>\n",
              "    </tr>\n",
              "    <tr>\n",
              "      <th id=\"T_ae41e_level0_row19\" class=\"row_heading level0 row19\" >19</th>\n",
              "      <td id=\"T_ae41e_row19_col0\" class=\"data row19 col0\" >USI</td>\n",
              "      <td id=\"T_ae41e_row19_col1\" class=\"data row19 col1\" >a381</td>\n",
              "    </tr>\n",
              "  </tbody>\n",
              "</table>\n"
            ]
          },
          "metadata": {}
        },
        {
          "output_type": "display_data",
          "data": {
            "text/plain": [
              "<IPython.core.display.HTML object>"
            ],
            "text/html": []
          },
          "metadata": {}
        },
        {
          "output_type": "display_data",
          "data": {
            "text/plain": [
              "<pandas.io.formats.style.Styler at 0x7dba692c9960>"
            ],
            "text/html": [
              "<style type=\"text/css\">\n",
              "</style>\n",
              "<table id=\"T_a8c74\" class=\"dataframe\">\n",
              "  <thead>\n",
              "    <tr>\n",
              "      <th class=\"blank level0\" >&nbsp;</th>\n",
              "      <th id=\"T_a8c74_level0_col0\" class=\"col_heading level0 col0\" >Silhouette</th>\n",
              "      <th id=\"T_a8c74_level0_col1\" class=\"col_heading level0 col1\" >Calinski-Harabasz</th>\n",
              "      <th id=\"T_a8c74_level0_col2\" class=\"col_heading level0 col2\" >Davies-Bouldin</th>\n",
              "      <th id=\"T_a8c74_level0_col3\" class=\"col_heading level0 col3\" >Homogeneity</th>\n",
              "      <th id=\"T_a8c74_level0_col4\" class=\"col_heading level0 col4\" >Rand Index</th>\n",
              "      <th id=\"T_a8c74_level0_col5\" class=\"col_heading level0 col5\" >Completeness</th>\n",
              "    </tr>\n",
              "  </thead>\n",
              "  <tbody>\n",
              "    <tr>\n",
              "      <th id=\"T_a8c74_level0_row0\" class=\"row_heading level0 row0\" >0</th>\n",
              "      <td id=\"T_a8c74_row0_col0\" class=\"data row0 col0\" >0.4290</td>\n",
              "      <td id=\"T_a8c74_row0_col1\" class=\"data row0 col1\" >67.6047</td>\n",
              "      <td id=\"T_a8c74_row0_col2\" class=\"data row0 col2\" >1.7202</td>\n",
              "      <td id=\"T_a8c74_row0_col3\" class=\"data row0 col3\" >0</td>\n",
              "      <td id=\"T_a8c74_row0_col4\" class=\"data row0 col4\" >0</td>\n",
              "      <td id=\"T_a8c74_row0_col5\" class=\"data row0 col5\" >0</td>\n",
              "    </tr>\n",
              "  </tbody>\n",
              "</table>\n"
            ]
          },
          "metadata": {}
        },
        {
          "output_type": "display_data",
          "data": {
            "text/plain": [
              "Processing:   0%|          | 0/3 [00:00<?, ?it/s]"
            ],
            "application/vnd.jupyter.widget-view+json": {
              "version_major": 2,
              "version_minor": 0,
              "model_id": "c426cd34c30b4f0382539d2fd972862d"
            }
          },
          "metadata": {
            "application/vnd.jupyter.widget-view+json": {
              "colab": {
                "custom_widget_manager": {
                  "url": "https://ssl.gstatic.com/colaboratory-static/widgets/colab-cdn-widget-manager/b3e629b1971e1542/manager.min.js"
                }
              }
            }
          }
        },
        {
          "output_type": "display_data",
          "data": {
            "text/plain": [
              "<IPython.core.display.HTML object>"
            ],
            "text/html": []
          },
          "metadata": {}
        },
        {
          "output_type": "stream",
          "name": "stdout",
          "text": [
            "   culmen_length_mm  culmen_depth_mm  flipper_length_mm  body_mass_g     sex  \\\n",
            "0         39.099998        18.700001              181.0       3750.0    MALE   \n",
            "1         39.500000        17.400000              186.0       3800.0  FEMALE   \n",
            "2         40.299999        18.000000              195.0       3250.0  FEMALE   \n",
            "3               NaN              NaN                NaN          NaN     NaN   \n",
            "4         36.700001        19.299999              193.0       3450.0  FEMALE   \n",
            "\n",
            "      Cluster  \n",
            "0   Cluster 0  \n",
            "1   Cluster 1  \n",
            "2   Cluster 1  \n",
            "3  Cluster -1  \n",
            "4   Cluster 1  \n"
          ]
        }
      ]
    },
    {
      "cell_type": "code",
      "source": [
        "plot_model(dbscan_model, plot = 'distribution') #to see size of clusters"
      ],
      "metadata": {
        "colab": {
          "base_uri": "https://localhost:8080/",
          "height": 617
        },
        "id": "BRjUXUlo3ZEN",
        "outputId": "0a00234d-db91-404c-d2a4-8dff9f96b0cb"
      },
      "execution_count": null,
      "outputs": [
        {
          "output_type": "display_data",
          "data": {
            "text/plain": [
              "<IPython.core.display.HTML object>"
            ],
            "text/html": []
          },
          "metadata": {}
        },
        {
          "output_type": "display_data",
          "data": {
            "text/html": [
              "<html>\n",
              "<head><meta charset=\"utf-8\" /></head>\n",
              "<body>\n",
              "    <div>            <script src=\"https://cdnjs.cloudflare.com/ajax/libs/mathjax/2.7.5/MathJax.js?config=TeX-AMS-MML_SVG\"></script><script type=\"text/javascript\">if (window.MathJax && window.MathJax.Hub && window.MathJax.Hub.Config) {window.MathJax.Hub.Config({SVG: {font: \"STIX-Web\"}});}</script>                <script type=\"text/javascript\">window.PlotlyConfig = {MathJaxConfig: 'local'};</script>\n",
              "        <script charset=\"utf-8\" src=\"https://cdn.plot.ly/plotly-2.24.1.min.js\"></script>                <div id=\"e5cd441f-066f-4eb4-93fa-3b850daca826\" class=\"plotly-graph-div\" style=\"height:600px; width:100%;\"></div>            <script type=\"text/javascript\">                                    window.PLOTLYENV=window.PLOTLYENV || {};                                    if (document.getElementById(\"e5cd441f-066f-4eb4-93fa-3b850daca826\")) {                    Plotly.newPlot(                        \"e5cd441f-066f-4eb4-93fa-3b850daca826\",                        [{\"alignmentgroup\":\"True\",\"bingroup\":\"x\",\"hovertemplate\":\"Cluster=%{x}\\u003cbr\\u003ecount=%{y}\\u003cextra\\u003e\\u003c\\u002fextra\\u003e\",\"legendgroup\":\"Cluster -1\",\"marker\":{\"color\":\"#636efa\",\"opacity\":0.7,\"pattern\":{\"shape\":\"\"}},\"name\":\"Cluster -1\",\"offsetgroup\":\"Cluster -1\",\"orientation\":\"v\",\"showlegend\":true,\"x\":[\"Cluster -1\",\"Cluster -1\",\"Cluster -1\",\"Cluster -1\",\"Cluster -1\",\"Cluster -1\",\"Cluster -1\",\"Cluster -1\",\"Cluster -1\",\"Cluster -1\",\"Cluster -1\",\"Cluster -1\",\"Cluster -1\",\"Cluster -1\",\"Cluster -1\",\"Cluster -1\",\"Cluster -1\",\"Cluster -1\",\"Cluster -1\",\"Cluster -1\",\"Cluster -1\",\"Cluster -1\",\"Cluster -1\",\"Cluster -1\",\"Cluster -1\",\"Cluster -1\",\"Cluster -1\",\"Cluster -1\",\"Cluster -1\",\"Cluster -1\",\"Cluster -1\",\"Cluster -1\",\"Cluster -1\",\"Cluster -1\",\"Cluster -1\",\"Cluster -1\",\"Cluster -1\",\"Cluster -1\",\"Cluster -1\",\"Cluster -1\",\"Cluster -1\",\"Cluster -1\",\"Cluster -1\",\"Cluster -1\"],\"xaxis\":\"x\",\"yaxis\":\"y\",\"type\":\"histogram\"},{\"alignmentgroup\":\"True\",\"customdata\":[[49.20000076293945,18.200000762939453,195.0,4400.0,\"MALE\"],[54.20000076293945,20.799999237060547,201.0,4300.0,\"MALE\"],[52.79999923706055,20.0,205.0,4550.0,\"MALE\"],[43.20000076293945,16.600000381469727,187.0,2900.0,\"FEMALE\"],[48.5,17.5,191.0,3400.0,\"MALE\"],[58.0,17.799999237060547,181.0,3700.0,\"FEMALE\"],[50.29999923706055,20.0,197.0,3300.0,\"MALE\"],[46.0,18.899999618530273,195.0,4150.0,\"FEMALE\"],[39.20000076293945,21.100000381469727,196.0,4150.0,\"MALE\"],[42.20000076293945,18.5,180.0,3550.0,\"FEMALE\"],[40.599998474121094,17.200000762939453,187.0,3475.0,\"MALE\"],[37.5,18.899999618530273,179.0,2975.0,null],[42.29999923706055,21.200000762939453,191.0,4150.0,\"MALE\"],[39.599998474121094,20.700000762939453,191.0,3900.0,\"FEMALE\"],[45.599998474121094,20.299999237060547,191.0,4600.0,\"MALE\"],[43.20000076293945,19.0,197.0,4775.0,\"MALE\"],[41.29999923706055,21.100000381469727,195.0,4400.0,\"MALE\"],[35.099998474121094,19.399999618530273,193.0,4200.0,\"MALE\"],[45.79999923706055,18.899999618530273,197.0,4150.0,\"MALE\"],[42.900001525878906,17.600000381469727,196.0,4700.0,\"MALE\"],[52.0,20.700000762939453,210.0,4800.0,\"MALE\"],[46.900001525878906,16.600000381469727,192.0,2700.0,\"FEMALE\"],[32.099998474121094,15.5,188.0,3050.0,\"FEMALE\"],[55.79999923706055,19.799999237060547,207.0,4000.0,\"MALE\"],[null,null,null,null,null],[44.5,15.699999809265137,217.0,4875.0,\".\"],[null,null,null,null,null],[55.099998474121094,16.0,230.0,5850.0,\"MALE\"],[47.29999923706055,13.800000190734863,216.0,4725.0,null],[55.900001525878906,17.0,228.0,5600.0,\"MALE\"],[51.29999923706055,14.199999809265137,218.0,5300.0,\"MALE\"],[53.5,19.899999618530273,205.0,4500.0,\"MALE\"],[42.0,20.200000762939453,5000.0,4250.0,\"MALE\"],[37.79999923706055,17.100000381469727,186.0,3300.0,null],[45.20000076293945,16.399999618530273,223.0,5950.0,\"MALE\"],[34.099998474121094,18.100000381469727,193.0,3475.0,null],[46.20000076293945,14.399999618530273,214.0,4650.0,null],[46.0,21.5,194.0,4200.0,\"MALE\"],[49.20000076293945,15.199999809265137,221.0,6300.0,\"MALE\"],[42.5,20.700000762939453,197.0,4500.0,\"MALE\"],[34.599998474121094,21.100000381469727,-132.0,4400.0,\"MALE\"],[59.599998474121094,17.0,230.0,6050.0,\"MALE\"],[44.5,14.300000190734863,216.0,4100.0,null],[44.400001525878906,17.299999237060547,219.0,5250.0,\"MALE\"]],\"hovertemplate\":\"Cluster=%{x}\\u003cbr\\u003eculmen_length_mm=%{customdata[0]}\\u003cbr\\u003eculmen_depth_mm=%{customdata[1]}\\u003cbr\\u003eflipper_length_mm=%{customdata[2]}\\u003cbr\\u003ebody_mass_g=%{customdata[3]}\\u003cbr\\u003esex=%{customdata[4]}\\u003cextra\\u003e\\u003c\\u002fextra\\u003e\",\"legendgroup\":\"Cluster -1\",\"marker\":{\"color\":\"#636efa\"},\"name\":\"Cluster -1\",\"notched\":true,\"offsetgroup\":\"Cluster -1\",\"showlegend\":false,\"x\":[\"Cluster -1\",\"Cluster -1\",\"Cluster -1\",\"Cluster -1\",\"Cluster -1\",\"Cluster -1\",\"Cluster -1\",\"Cluster -1\",\"Cluster -1\",\"Cluster -1\",\"Cluster -1\",\"Cluster -1\",\"Cluster -1\",\"Cluster -1\",\"Cluster -1\",\"Cluster -1\",\"Cluster -1\",\"Cluster -1\",\"Cluster -1\",\"Cluster -1\",\"Cluster -1\",\"Cluster -1\",\"Cluster -1\",\"Cluster -1\",\"Cluster -1\",\"Cluster -1\",\"Cluster -1\",\"Cluster -1\",\"Cluster -1\",\"Cluster -1\",\"Cluster -1\",\"Cluster -1\",\"Cluster -1\",\"Cluster -1\",\"Cluster -1\",\"Cluster -1\",\"Cluster -1\",\"Cluster -1\",\"Cluster -1\",\"Cluster -1\",\"Cluster -1\",\"Cluster -1\",\"Cluster -1\",\"Cluster -1\"],\"xaxis\":\"x2\",\"yaxis\":\"y2\",\"type\":\"box\"},{\"alignmentgroup\":\"True\",\"bingroup\":\"x\",\"hovertemplate\":\"Cluster=%{x}\\u003cbr\\u003ecount=%{y}\\u003cextra\\u003e\\u003c\\u002fextra\\u003e\",\"legendgroup\":\"Cluster 0\",\"marker\":{\"color\":\"#EF553B\",\"opacity\":0.7,\"pattern\":{\"shape\":\"\"}},\"name\":\"Cluster 0\",\"offsetgroup\":\"Cluster 0\",\"orientation\":\"v\",\"showlegend\":true,\"x\":[\"Cluster 0\",\"Cluster 0\",\"Cluster 0\",\"Cluster 0\",\"Cluster 0\",\"Cluster 0\",\"Cluster 0\",\"Cluster 0\",\"Cluster 0\",\"Cluster 0\",\"Cluster 0\",\"Cluster 0\",\"Cluster 0\",\"Cluster 0\",\"Cluster 0\",\"Cluster 0\",\"Cluster 0\",\"Cluster 0\",\"Cluster 0\",\"Cluster 0\",\"Cluster 0\",\"Cluster 0\",\"Cluster 0\",\"Cluster 0\",\"Cluster 0\",\"Cluster 0\",\"Cluster 0\",\"Cluster 0\",\"Cluster 0\",\"Cluster 0\",\"Cluster 0\",\"Cluster 0\",\"Cluster 0\",\"Cluster 0\",\"Cluster 0\",\"Cluster 0\",\"Cluster 0\",\"Cluster 0\",\"Cluster 0\",\"Cluster 0\",\"Cluster 0\",\"Cluster 0\",\"Cluster 0\",\"Cluster 0\",\"Cluster 0\",\"Cluster 0\",\"Cluster 0\",\"Cluster 0\",\"Cluster 0\",\"Cluster 0\",\"Cluster 0\",\"Cluster 0\",\"Cluster 0\",\"Cluster 0\",\"Cluster 0\",\"Cluster 0\",\"Cluster 0\",\"Cluster 0\",\"Cluster 0\",\"Cluster 0\",\"Cluster 0\",\"Cluster 0\"],\"xaxis\":\"x\",\"yaxis\":\"y\",\"type\":\"histogram\"},{\"alignmentgroup\":\"True\",\"customdata\":[[38.20000076293945,20.0,190.0,3900.0,\"MALE\"],[39.70000076293945,18.899999618530273,184.0,3550.0,\"MALE\"],[37.79999923706055,20.0,190.0,4250.0,\"MALE\"],[41.0,20.0,203.0,4725.0,\"MALE\"],[40.70000076293945,17.0,190.0,3725.0,\"MALE\"],[40.79999923706055,18.899999618530273,208.0,4300.0,\"MALE\"],[39.599998474121094,18.100000381469727,186.0,4450.0,\"MALE\"],[41.099998474121094,18.100000381469727,205.0,4300.0,\"MALE\"],[38.29999923706055,19.200000762939453,189.0,3950.0,\"MALE\"],[36.29999923706055,19.5,190.0,3800.0,\"MALE\"],[41.29999923706055,20.299999237060547,194.0,3550.0,\"MALE\"],[43.20000076293945,18.5,192.0,4100.0,\"MALE\"],[40.29999923706055,18.5,196.0,4350.0,\"MALE\"],[42.20000076293945,19.5,197.0,4275.0,\"MALE\"],[37.29999923706055,20.5,199.0,3775.0,\"MALE\"],[39.0,18.700000762939453,185.0,3650.0,\"MALE\"],[42.099998474121094,19.100000381469727,195.0,4000.0,\"MALE\"],[39.20000076293945,18.600000381469727,190.0,4250.0,\"MALE\"],[39.70000076293945,17.899999618530273,193.0,4250.0,\"MALE\"],[40.20000076293945,20.100000381469727,200.0,3975.0,\"MALE\"],[41.099998474121094,17.5,190.0,3900.0,\"MALE\"],[37.5,18.5,199.0,4475.0,\"MALE\"],[42.70000076293945,18.299999237060547,196.0,4075.0,\"MALE\"],[43.099998474121094,19.200000762939453,197.0,3500.0,\"MALE\"],[41.5,18.299999237060547,195.0,4300.0,\"MALE\"],[37.79999923706055,18.100000381469727,193.0,3750.0,\"MALE\"],[40.599998474121094,19.0,199.0,4000.0,\"MALE\"],[41.5,18.5,201.0,4000.0,\"MALE\"],[41.400001525878906,18.5,202.0,3875.0,\"MALE\"],[37.70000076293945,19.799999237060547,198.0,3500.0,\"MALE\"],[41.099998474121094,18.600000381469727,189.0,3325.0,\"MALE\"],[44.099998474121094,18.0,210.0,4000.0,\"MALE\"],[37.20000076293945,19.399999618530273,184.0,3900.0,\"MALE\"],[39.099998474121094,18.700000762939453,181.0,3750.0,\"MALE\"],[39.79999923706055,19.100000381469727,184.0,4650.0,\"MALE\"],[41.099998474121094,18.200000762939453,192.0,4050.0,\"MALE\"],[40.5,18.899999618530273,180.0,3950.0,\"MALE\"],[37.79999923706055,17.299999237060547,180.0,3700.0,null],[40.79999923706055,18.399999618530273,195.0,3900.0,\"MALE\"],[37.599998474121094,19.100000381469727,194.0,3750.0,\"MALE\"],[39.29999923706055,20.600000381469727,190.0,3650.0,\"MALE\"],[40.599998474121094,18.799999237060547,193.0,3800.0,\"MALE\"],[38.599998474121094,21.200000762939453,191.0,3800.0,\"MALE\"],[41.400001525878906,18.600000381469727,191.0,3700.0,\"MALE\"],[42.0,19.5,200.0,4050.0,\"MALE\"],[40.099998474121094,18.899999618530273,188.0,4300.0,\"MALE\"],[40.900001525878906,18.899999618530273,184.0,3900.0,\"MALE\"],[38.79999923706055,20.0,190.0,3950.0,\"MALE\"],[41.099998474121094,19.0,182.0,3425.0,\"MALE\"],[39.599998474121094,18.799999237060547,190.0,4600.0,\"MALE\"],[44.099998474121094,19.700000762939453,196.0,4400.0,\"MALE\"],[37.20000076293945,18.100000381469727,178.0,3900.0,\"MALE\"],[41.599998474121094,18.0,192.0,3950.0,\"MALE\"],[39.20000076293945,19.600000381469727,195.0,4675.0,\"MALE\"],[42.79999923706055,18.5,195.0,4250.0,\"MALE\"],[40.599998474121094,18.600000381469727,183.0,3550.0,\"MALE\"],[38.20000076293945,18.100000381469727,185.0,3950.0,\"MALE\"],[41.099998474121094,19.100000381469727,188.0,4100.0,\"MALE\"],[41.79999923706055,19.399999618530273,198.0,4450.0,\"MALE\"],[37.70000076293945,18.700000762939453,180.0,3600.0,\"MALE\"],[39.70000076293945,18.399999618530273,190.0,3900.0,\"MALE\"],[38.79999923706055,17.200000762939453,180.0,3800.0,\"MALE\"]],\"hovertemplate\":\"Cluster=%{x}\\u003cbr\\u003eculmen_length_mm=%{customdata[0]}\\u003cbr\\u003eculmen_depth_mm=%{customdata[1]}\\u003cbr\\u003eflipper_length_mm=%{customdata[2]}\\u003cbr\\u003ebody_mass_g=%{customdata[3]}\\u003cbr\\u003esex=%{customdata[4]}\\u003cextra\\u003e\\u003c\\u002fextra\\u003e\",\"legendgroup\":\"Cluster 0\",\"marker\":{\"color\":\"#EF553B\"},\"name\":\"Cluster 0\",\"notched\":true,\"offsetgroup\":\"Cluster 0\",\"showlegend\":false,\"x\":[\"Cluster 0\",\"Cluster 0\",\"Cluster 0\",\"Cluster 0\",\"Cluster 0\",\"Cluster 0\",\"Cluster 0\",\"Cluster 0\",\"Cluster 0\",\"Cluster 0\",\"Cluster 0\",\"Cluster 0\",\"Cluster 0\",\"Cluster 0\",\"Cluster 0\",\"Cluster 0\",\"Cluster 0\",\"Cluster 0\",\"Cluster 0\",\"Cluster 0\",\"Cluster 0\",\"Cluster 0\",\"Cluster 0\",\"Cluster 0\",\"Cluster 0\",\"Cluster 0\",\"Cluster 0\",\"Cluster 0\",\"Cluster 0\",\"Cluster 0\",\"Cluster 0\",\"Cluster 0\",\"Cluster 0\",\"Cluster 0\",\"Cluster 0\",\"Cluster 0\",\"Cluster 0\",\"Cluster 0\",\"Cluster 0\",\"Cluster 0\",\"Cluster 0\",\"Cluster 0\",\"Cluster 0\",\"Cluster 0\",\"Cluster 0\",\"Cluster 0\",\"Cluster 0\",\"Cluster 0\",\"Cluster 0\",\"Cluster 0\",\"Cluster 0\",\"Cluster 0\",\"Cluster 0\",\"Cluster 0\",\"Cluster 0\",\"Cluster 0\",\"Cluster 0\",\"Cluster 0\",\"Cluster 0\",\"Cluster 0\",\"Cluster 0\",\"Cluster 0\"],\"xaxis\":\"x2\",\"yaxis\":\"y2\",\"type\":\"box\"},{\"alignmentgroup\":\"True\",\"bingroup\":\"x\",\"hovertemplate\":\"Cluster=%{x}\\u003cbr\\u003ecount=%{y}\\u003cextra\\u003e\\u003c\\u002fextra\\u003e\",\"legendgroup\":\"Cluster 1\",\"marker\":{\"color\":\"#00cc96\",\"opacity\":0.7,\"pattern\":{\"shape\":\"\"}},\"name\":\"Cluster 1\",\"offsetgroup\":\"Cluster 1\",\"orientation\":\"v\",\"showlegend\":true,\"x\":[\"Cluster 1\",\"Cluster 1\",\"Cluster 1\",\"Cluster 1\",\"Cluster 1\",\"Cluster 1\",\"Cluster 1\",\"Cluster 1\",\"Cluster 1\",\"Cluster 1\",\"Cluster 1\",\"Cluster 1\",\"Cluster 1\",\"Cluster 1\",\"Cluster 1\",\"Cluster 1\",\"Cluster 1\",\"Cluster 1\",\"Cluster 1\",\"Cluster 1\",\"Cluster 1\",\"Cluster 1\",\"Cluster 1\",\"Cluster 1\",\"Cluster 1\",\"Cluster 1\",\"Cluster 1\",\"Cluster 1\",\"Cluster 1\",\"Cluster 1\",\"Cluster 1\",\"Cluster 1\",\"Cluster 1\",\"Cluster 1\",\"Cluster 1\",\"Cluster 1\",\"Cluster 1\",\"Cluster 1\",\"Cluster 1\",\"Cluster 1\",\"Cluster 1\",\"Cluster 1\",\"Cluster 1\",\"Cluster 1\",\"Cluster 1\",\"Cluster 1\",\"Cluster 1\",\"Cluster 1\",\"Cluster 1\",\"Cluster 1\",\"Cluster 1\",\"Cluster 1\",\"Cluster 1\",\"Cluster 1\",\"Cluster 1\",\"Cluster 1\",\"Cluster 1\",\"Cluster 1\",\"Cluster 1\",\"Cluster 1\",\"Cluster 1\",\"Cluster 1\",\"Cluster 1\",\"Cluster 1\",\"Cluster 1\",\"Cluster 1\",\"Cluster 1\",\"Cluster 1\",\"Cluster 1\",\"Cluster 1\",\"Cluster 1\",\"Cluster 1\",\"Cluster 1\",\"Cluster 1\",\"Cluster 1\"],\"xaxis\":\"x\",\"yaxis\":\"y\",\"type\":\"histogram\"},{\"alignmentgroup\":\"True\",\"customdata\":[[40.5,17.899999618530273,187.0,3200.0,\"FEMALE\"],[36.0,17.799999237060547,195.0,3450.0,\"FEMALE\"],[36.599998474121094,18.399999618530273,184.0,3475.0,\"FEMALE\"],[35.900001525878906,19.200000762939453,189.0,3800.0,\"FEMALE\"],[37.29999923706055,16.799999237060547,192.0,3000.0,\"FEMALE\"],[37.79999923706055,18.299999237060547,174.0,3400.0,\"FEMALE\"],[37.599998474121094,19.299999237060547,181.0,3300.0,\"FEMALE\"],[40.900001525878906,16.799999237060547,191.0,3700.0,\"FEMALE\"],[40.20000076293945,17.100000381469727,193.0,3400.0,\"FEMALE\"],[36.5,18.0,182.0,3150.0,\"FEMALE\"],[37.0,16.5,185.0,3400.0,\"FEMALE\"],[36.400001525878906,17.0,195.0,3325.0,\"FEMALE\"],[39.5,17.799999237060547,188.0,3300.0,\"FEMALE\"],[43.5,18.100000381469727,202.0,3400.0,\"FEMALE\"],[39.5,17.399999618530273,186.0,3800.0,\"FEMALE\"],[42.5,16.700000762939453,187.0,3350.0,\"FEMALE\"],[40.29999923706055,18.0,195.0,3250.0,\"FEMALE\"],[36.70000076293945,19.299999237060547,193.0,3450.0,\"FEMALE\"],[39.5,16.700000762939453,178.0,3250.0,\"FEMALE\"],[38.900001525878906,17.799999237060547,181.0,3625.0,\"FEMALE\"],[40.900001525878906,16.600000381469727,187.0,3200.0,\"FEMALE\"],[35.29999923706055,18.899999618530273,187.0,3800.0,\"FEMALE\"],[34.400001525878906,18.399999618530273,184.0,3325.0,\"FEMALE\"],[41.099998474121094,17.600000381469727,182.0,3200.0,\"FEMALE\"],[37.900001525878906,18.600000381469727,172.0,3150.0,\"FEMALE\"],[38.70000076293945,19.0,195.0,3450.0,\"FEMALE\"],[36.599998474121094,17.799999237060547,185.0,3700.0,\"FEMALE\"],[42.400001525878906,17.299999237060547,181.0,3600.0,\"FEMALE\"],[36.0,17.100000381469727,187.0,3700.0,\"FEMALE\"],[35.599998474121094,17.5,191.0,3175.0,\"FEMALE\"],[36.20000076293945,16.100000381469727,187.0,3550.0,\"FEMALE\"],[38.099998474121094,17.600000381469727,187.0,3425.0,\"FEMALE\"],[35.70000076293945,16.899999618530273,185.0,3150.0,\"FEMALE\"],[37.900001525878906,18.600000381469727,193.0,2925.0,\"FEMALE\"],[37.599998474121094,17.0,185.0,3600.0,\"FEMALE\"],[37.70000076293945,16.0,183.0,3075.0,\"FEMALE\"],[36.0,18.5,186.0,3100.0,\"FEMALE\"],[36.400001525878906,17.100000381469727,184.0,2850.0,\"FEMALE\"],[33.099998474121094,16.100000381469727,178.0,2900.0,\"FEMALE\"],[38.099998474121094,18.600000381469727,190.0,3700.0,\"FEMALE\"],[35.5,16.200000762939453,195.0,3350.0,\"FEMALE\"],[36.20000076293945,17.299999237060547,187.0,3300.0,\"FEMALE\"],[34.0,17.100000381469727,185.0,3400.0,\"FEMALE\"],[35.900001525878906,16.600000381469727,190.0,3050.0,\"FEMALE\"],[35.70000076293945,18.0,202.0,3550.0,\"FEMALE\"],[38.900001525878906,18.799999237060547,190.0,3600.0,\"FEMALE\"],[36.900001525878906,18.600000381469727,189.0,3500.0,\"FEMALE\"],[33.5,19.0,190.0,3600.0,\"FEMALE\"],[37.29999923706055,17.799999237060547,191.0,3350.0,\"FEMALE\"],[39.599998474121094,17.200000762939453,196.0,3550.0,\"FEMALE\"],[36.70000076293945,18.799999237060547,187.0,3800.0,\"FEMALE\"],[35.5,17.5,190.0,3700.0,\"FEMALE\"],[34.599998474121094,17.200000762939453,189.0,3200.0,\"FEMALE\"],[38.599998474121094,17.200000762939453,199.0,3750.0,\"FEMALE\"],[38.099998474121094,17.0,181.0,3175.0,\"FEMALE\"],[35.0,17.899999618530273,192.0,3725.0,\"FEMALE\"],[35.20000076293945,15.899999618530273,186.0,3050.0,\"FEMALE\"],[36.79999923706055,18.5,193.0,3500.0,\"FEMALE\"],[37.0,16.899999618530273,185.0,3000.0,\"FEMALE\"],[38.5,17.899999618530273,190.0,3325.0,\"FEMALE\"],[39.0,17.100000381469727,191.0,3050.0,\"FEMALE\"],[38.79999923706055,17.600000381469727,191.0,3275.0,\"FEMALE\"],[36.0,17.899999618530273,190.0,3450.0,\"FEMALE\"],[36.5,16.600000381469727,181.0,2850.0,\"FEMALE\"],[39.599998474121094,17.700000762939453,186.0,3500.0,\"FEMALE\"],[40.20000076293945,17.0,176.0,3450.0,\"FEMALE\"],[36.20000076293945,17.200000762939453,187.0,3150.0,\"FEMALE\"],[35.0,17.899999618530273,190.0,3450.0,\"FEMALE\"],[35.70000076293945,17.0,189.0,3350.0,\"FEMALE\"],[42.5,17.299999237060547,187.0,3350.0,\"FEMALE\"],[34.5,18.100000381469727,187.0,2900.0,\"FEMALE\"],[38.099998474121094,16.5,198.0,3825.0,\"FEMALE\"],[39.0,17.5,186.0,3550.0,\"FEMALE\"],[39.70000076293945,17.700000762939453,193.0,3200.0,\"FEMALE\"],[38.599998474121094,17.0,188.0,2900.0,\"FEMALE\"]],\"hovertemplate\":\"Cluster=%{x}\\u003cbr\\u003eculmen_length_mm=%{customdata[0]}\\u003cbr\\u003eculmen_depth_mm=%{customdata[1]}\\u003cbr\\u003eflipper_length_mm=%{customdata[2]}\\u003cbr\\u003ebody_mass_g=%{customdata[3]}\\u003cbr\\u003esex=%{customdata[4]}\\u003cextra\\u003e\\u003c\\u002fextra\\u003e\",\"legendgroup\":\"Cluster 1\",\"marker\":{\"color\":\"#00cc96\"},\"name\":\"Cluster 1\",\"notched\":true,\"offsetgroup\":\"Cluster 1\",\"showlegend\":false,\"x\":[\"Cluster 1\",\"Cluster 1\",\"Cluster 1\",\"Cluster 1\",\"Cluster 1\",\"Cluster 1\",\"Cluster 1\",\"Cluster 1\",\"Cluster 1\",\"Cluster 1\",\"Cluster 1\",\"Cluster 1\",\"Cluster 1\",\"Cluster 1\",\"Cluster 1\",\"Cluster 1\",\"Cluster 1\",\"Cluster 1\",\"Cluster 1\",\"Cluster 1\",\"Cluster 1\",\"Cluster 1\",\"Cluster 1\",\"Cluster 1\",\"Cluster 1\",\"Cluster 1\",\"Cluster 1\",\"Cluster 1\",\"Cluster 1\",\"Cluster 1\",\"Cluster 1\",\"Cluster 1\",\"Cluster 1\",\"Cluster 1\",\"Cluster 1\",\"Cluster 1\",\"Cluster 1\",\"Cluster 1\",\"Cluster 1\",\"Cluster 1\",\"Cluster 1\",\"Cluster 1\",\"Cluster 1\",\"Cluster 1\",\"Cluster 1\",\"Cluster 1\",\"Cluster 1\",\"Cluster 1\",\"Cluster 1\",\"Cluster 1\",\"Cluster 1\",\"Cluster 1\",\"Cluster 1\",\"Cluster 1\",\"Cluster 1\",\"Cluster 1\",\"Cluster 1\",\"Cluster 1\",\"Cluster 1\",\"Cluster 1\",\"Cluster 1\",\"Cluster 1\",\"Cluster 1\",\"Cluster 1\",\"Cluster 1\",\"Cluster 1\",\"Cluster 1\",\"Cluster 1\",\"Cluster 1\",\"Cluster 1\",\"Cluster 1\",\"Cluster 1\",\"Cluster 1\",\"Cluster 1\",\"Cluster 1\"],\"xaxis\":\"x2\",\"yaxis\":\"y2\",\"type\":\"box\"},{\"alignmentgroup\":\"True\",\"bingroup\":\"x\",\"hovertemplate\":\"Cluster=%{x}\\u003cbr\\u003ecount=%{y}\\u003cextra\\u003e\\u003c\\u002fextra\\u003e\",\"legendgroup\":\"Cluster 2\",\"marker\":{\"color\":\"#ab63fa\",\"opacity\":0.7,\"pattern\":{\"shape\":\"\"}},\"name\":\"Cluster 2\",\"offsetgroup\":\"Cluster 2\",\"orientation\":\"v\",\"showlegend\":true,\"x\":[\"Cluster 2\",\"Cluster 2\",\"Cluster 2\",\"Cluster 2\",\"Cluster 2\",\"Cluster 2\",\"Cluster 2\",\"Cluster 2\",\"Cluster 2\",\"Cluster 2\",\"Cluster 2\",\"Cluster 2\",\"Cluster 2\",\"Cluster 2\",\"Cluster 2\",\"Cluster 2\",\"Cluster 2\",\"Cluster 2\",\"Cluster 2\",\"Cluster 2\"],\"xaxis\":\"x\",\"yaxis\":\"y\",\"type\":\"histogram\"},{\"alignmentgroup\":\"True\",\"customdata\":[[46.70000076293945,17.899999618530273,195.0,3300.0,\"FEMALE\"],[48.099998474121094,16.399999618530273,199.0,3325.0,\"FEMALE\"],[45.20000076293945,16.600000381469727,191.0,3250.0,\"FEMALE\"],[45.599998474121094,19.399999618530273,194.0,3525.0,\"FEMALE\"],[46.79999923706055,16.5,189.0,3650.0,\"FEMALE\"],[45.5,17.0,196.0,3500.0,\"FEMALE\"],[45.70000076293945,17.0,195.0,3650.0,\"FEMALE\"],[46.20000076293945,17.5,187.0,3650.0,\"FEMALE\"],[47.0,17.299999237060547,185.0,3700.0,\"FEMALE\"],[46.099998474121094,18.200000762939453,178.0,3250.0,\"FEMALE\"],[45.70000076293945,17.299999237060547,193.0,3600.0,\"FEMALE\"],[47.599998474121094,18.299999237060547,195.0,3850.0,\"FEMALE\"],[47.5,16.799999237060547,199.0,3900.0,\"FEMALE\"],[45.20000076293945,17.799999237060547,198.0,3950.0,\"FEMALE\"],[45.400001525878906,18.700000762939453,188.0,3525.0,\"FEMALE\"],[46.400001525878906,18.600000381469727,190.0,3450.0,\"FEMALE\"],[46.400001525878906,17.799999237060547,191.0,3700.0,\"FEMALE\"],[46.5,17.899999618530273,192.0,3500.0,\"FEMALE\"],[45.900001525878906,17.100000381469727,190.0,3575.0,\"FEMALE\"],[46.599998474121094,17.799999237060547,193.0,3800.0,\"FEMALE\"]],\"hovertemplate\":\"Cluster=%{x}\\u003cbr\\u003eculmen_length_mm=%{customdata[0]}\\u003cbr\\u003eculmen_depth_mm=%{customdata[1]}\\u003cbr\\u003eflipper_length_mm=%{customdata[2]}\\u003cbr\\u003ebody_mass_g=%{customdata[3]}\\u003cbr\\u003esex=%{customdata[4]}\\u003cextra\\u003e\\u003c\\u002fextra\\u003e\",\"legendgroup\":\"Cluster 2\",\"marker\":{\"color\":\"#ab63fa\"},\"name\":\"Cluster 2\",\"notched\":true,\"offsetgroup\":\"Cluster 2\",\"showlegend\":false,\"x\":[\"Cluster 2\",\"Cluster 2\",\"Cluster 2\",\"Cluster 2\",\"Cluster 2\",\"Cluster 2\",\"Cluster 2\",\"Cluster 2\",\"Cluster 2\",\"Cluster 2\",\"Cluster 2\",\"Cluster 2\",\"Cluster 2\",\"Cluster 2\",\"Cluster 2\",\"Cluster 2\",\"Cluster 2\",\"Cluster 2\",\"Cluster 2\",\"Cluster 2\"],\"xaxis\":\"x2\",\"yaxis\":\"y2\",\"type\":\"box\"},{\"alignmentgroup\":\"True\",\"bingroup\":\"x\",\"hovertemplate\":\"Cluster=%{x}\\u003cbr\\u003ecount=%{y}\\u003cextra\\u003e\\u003c\\u002fextra\\u003e\",\"legendgroup\":\"Cluster 3\",\"marker\":{\"color\":\"#FFA15A\",\"opacity\":0.7,\"pattern\":{\"shape\":\"\"}},\"name\":\"Cluster 3\",\"offsetgroup\":\"Cluster 3\",\"orientation\":\"v\",\"showlegend\":true,\"x\":[\"Cluster 3\",\"Cluster 3\",\"Cluster 3\",\"Cluster 3\",\"Cluster 3\",\"Cluster 3\",\"Cluster 3\",\"Cluster 3\",\"Cluster 3\",\"Cluster 3\",\"Cluster 3\",\"Cluster 3\",\"Cluster 3\",\"Cluster 3\",\"Cluster 3\",\"Cluster 3\",\"Cluster 3\",\"Cluster 3\",\"Cluster 3\",\"Cluster 3\",\"Cluster 3\",\"Cluster 3\",\"Cluster 3\",\"Cluster 3\",\"Cluster 3\",\"Cluster 3\"],\"xaxis\":\"x\",\"yaxis\":\"y\",\"type\":\"histogram\"},{\"alignmentgroup\":\"True\",\"customdata\":[[49.599998474121094,18.200000762939453,193.0,3775.0,\"MALE\"],[51.900001525878906,19.5,206.0,3950.0,\"MALE\"],[49.29999923706055,19.899999618530273,203.0,4050.0,\"MALE\"],[50.79999923706055,19.0,210.0,4100.0,\"MALE\"],[52.20000076293945,18.799999237060547,197.0,3450.0,\"MALE\"],[50.20000076293945,18.799999237060547,202.0,3800.0,\"MALE\"],[51.400001525878906,19.0,201.0,3950.0,\"MALE\"],[51.29999923706055,19.899999618530273,198.0,3700.0,\"MALE\"],[50.599998474121094,19.399999618530273,193.0,3800.0,\"MALE\"],[50.70000076293945,19.700000762939453,203.0,4050.0,\"MALE\"],[52.0,19.0,197.0,4150.0,\"MALE\"],[50.5,19.600000381469727,201.0,4050.0,\"MALE\"],[51.29999923706055,19.200000762939453,193.0,3650.0,\"MALE\"],[51.70000076293945,20.299999237060547,194.0,3775.0,\"MALE\"],[50.0,19.5,196.0,3900.0,\"MALE\"],[52.0,18.100000381469727,201.0,4050.0,\"MALE\"],[49.5,19.0,200.0,3800.0,\"MALE\"],[52.70000076293945,19.799999237060547,197.0,3725.0,\"MALE\"],[51.29999923706055,18.200000762939453,197.0,3750.0,\"MALE\"],[51.5,18.700000762939453,187.0,3250.0,\"MALE\"],[49.0,19.600000381469727,212.0,4300.0,\"MALE\"],[49.70000076293945,18.600000381469727,195.0,3600.0,\"MALE\"],[49.0,19.5,210.0,3950.0,\"MALE\"],[50.900001525878906,19.100000381469727,196.0,3550.0,\"MALE\"],[51.0,18.799999237060547,203.0,4100.0,\"MALE\"],[50.79999923706055,18.5,201.0,4450.0,\"MALE\"]],\"hovertemplate\":\"Cluster=%{x}\\u003cbr\\u003eculmen_length_mm=%{customdata[0]}\\u003cbr\\u003eculmen_depth_mm=%{customdata[1]}\\u003cbr\\u003eflipper_length_mm=%{customdata[2]}\\u003cbr\\u003ebody_mass_g=%{customdata[3]}\\u003cbr\\u003esex=%{customdata[4]}\\u003cextra\\u003e\\u003c\\u002fextra\\u003e\",\"legendgroup\":\"Cluster 3\",\"marker\":{\"color\":\"#FFA15A\"},\"name\":\"Cluster 3\",\"notched\":true,\"offsetgroup\":\"Cluster 3\",\"showlegend\":false,\"x\":[\"Cluster 3\",\"Cluster 3\",\"Cluster 3\",\"Cluster 3\",\"Cluster 3\",\"Cluster 3\",\"Cluster 3\",\"Cluster 3\",\"Cluster 3\",\"Cluster 3\",\"Cluster 3\",\"Cluster 3\",\"Cluster 3\",\"Cluster 3\",\"Cluster 3\",\"Cluster 3\",\"Cluster 3\",\"Cluster 3\",\"Cluster 3\",\"Cluster 3\",\"Cluster 3\",\"Cluster 3\",\"Cluster 3\",\"Cluster 3\",\"Cluster 3\",\"Cluster 3\"],\"xaxis\":\"x2\",\"yaxis\":\"y2\",\"type\":\"box\"},{\"alignmentgroup\":\"True\",\"bingroup\":\"x\",\"hovertemplate\":\"Cluster=%{x}\\u003cbr\\u003ecount=%{y}\\u003cextra\\u003e\\u003c\\u002fextra\\u003e\",\"legendgroup\":\"Cluster 4\",\"marker\":{\"color\":\"#19d3f3\",\"opacity\":0.7,\"pattern\":{\"shape\":\"\"}},\"name\":\"Cluster 4\",\"offsetgroup\":\"Cluster 4\",\"orientation\":\"v\",\"showlegend\":true,\"x\":[\"Cluster 4\",\"Cluster 4\",\"Cluster 4\",\"Cluster 4\",\"Cluster 4\"],\"xaxis\":\"x\",\"yaxis\":\"y\",\"type\":\"histogram\"},{\"alignmentgroup\":\"True\",\"customdata\":[[49.79999923706055,17.299999237060547,198.0,3675.0,\"FEMALE\"],[50.099998474121094,17.899999618530273,190.0,3400.0,\"FEMALE\"],[50.5,18.399999618530273,200.0,3400.0,\"FEMALE\"],[50.900001525878906,17.899999618530273,196.0,3675.0,\"FEMALE\"],[50.20000076293945,18.700000762939453,198.0,3775.0,\"FEMALE\"]],\"hovertemplate\":\"Cluster=%{x}\\u003cbr\\u003eculmen_length_mm=%{customdata[0]}\\u003cbr\\u003eculmen_depth_mm=%{customdata[1]}\\u003cbr\\u003eflipper_length_mm=%{customdata[2]}\\u003cbr\\u003ebody_mass_g=%{customdata[3]}\\u003cbr\\u003esex=%{customdata[4]}\\u003cextra\\u003e\\u003c\\u002fextra\\u003e\",\"legendgroup\":\"Cluster 4\",\"marker\":{\"color\":\"#19d3f3\"},\"name\":\"Cluster 4\",\"notched\":true,\"offsetgroup\":\"Cluster 4\",\"showlegend\":false,\"x\":[\"Cluster 4\",\"Cluster 4\",\"Cluster 4\",\"Cluster 4\",\"Cluster 4\"],\"xaxis\":\"x2\",\"yaxis\":\"y2\",\"type\":\"box\"},{\"alignmentgroup\":\"True\",\"bingroup\":\"x\",\"hovertemplate\":\"Cluster=%{x}\\u003cbr\\u003ecount=%{y}\\u003cextra\\u003e\\u003c\\u002fextra\\u003e\",\"legendgroup\":\"Cluster 5\",\"marker\":{\"color\":\"#FF6692\",\"opacity\":0.7,\"pattern\":{\"shape\":\"\"}},\"name\":\"Cluster 5\",\"offsetgroup\":\"Cluster 5\",\"orientation\":\"v\",\"showlegend\":true,\"x\":[\"Cluster 5\",\"Cluster 5\",\"Cluster 5\",\"Cluster 5\",\"Cluster 5\",\"Cluster 5\",\"Cluster 5\",\"Cluster 5\",\"Cluster 5\",\"Cluster 5\",\"Cluster 5\",\"Cluster 5\",\"Cluster 5\",\"Cluster 5\",\"Cluster 5\",\"Cluster 5\",\"Cluster 5\",\"Cluster 5\",\"Cluster 5\",\"Cluster 5\",\"Cluster 5\",\"Cluster 5\",\"Cluster 5\",\"Cluster 5\",\"Cluster 5\",\"Cluster 5\",\"Cluster 5\",\"Cluster 5\",\"Cluster 5\",\"Cluster 5\",\"Cluster 5\",\"Cluster 5\",\"Cluster 5\",\"Cluster 5\",\"Cluster 5\",\"Cluster 5\",\"Cluster 5\",\"Cluster 5\",\"Cluster 5\",\"Cluster 5\",\"Cluster 5\",\"Cluster 5\",\"Cluster 5\",\"Cluster 5\",\"Cluster 5\",\"Cluster 5\",\"Cluster 5\",\"Cluster 5\",\"Cluster 5\",\"Cluster 5\",\"Cluster 5\",\"Cluster 5\",\"Cluster 5\",\"Cluster 5\",\"Cluster 5\",\"Cluster 5\",\"Cluster 5\",\"Cluster 5\"],\"xaxis\":\"x\",\"yaxis\":\"y\",\"type\":\"histogram\"},{\"alignmentgroup\":\"True\",\"customdata\":[[47.5,15.0,218.0,4950.0,\"FEMALE\"],[47.20000076293945,15.5,215.0,4975.0,\"FEMALE\"],[43.599998474121094,13.899999618530273,217.0,4900.0,\"FEMALE\"],[45.5,13.899999618530273,210.0,4200.0,\"FEMALE\"],[47.400001525878906,14.600000381469727,212.0,4725.0,\"FEMALE\"],[44.900001525878906,13.300000190734863,213.0,5100.0,\"FEMALE\"],[43.400001525878906,14.399999618530273,218.0,4600.0,\"FEMALE\"],[48.5,15.0,219.0,4850.0,\"FEMALE\"],[46.599998474121094,14.199999809265137,210.0,4850.0,\"FEMALE\"],[45.099998474121094,14.399999618530273,210.0,4400.0,\"FEMALE\"],[48.400001525878906,14.399999618530273,203.0,4625.0,\"FEMALE\"],[46.5,14.399999618530273,217.0,4900.0,\"FEMALE\"],[49.099998474121094,14.5,212.0,4625.0,\"FEMALE\"],[46.5,14.800000190734863,217.0,5200.0,\"FEMALE\"],[45.20000076293945,13.800000190734863,215.0,4750.0,\"FEMALE\"],[46.900001525878906,14.600000381469727,222.0,4875.0,\"FEMALE\"],[43.20000076293945,14.5,208.0,4450.0,\"FEMALE\"],[45.29999923706055,13.800000190734863,208.0,4200.0,\"FEMALE\"],[45.70000076293945,13.899999618530273,214.0,4400.0,\"FEMALE\"],[44.5,14.699999809265137,214.0,4850.0,\"FEMALE\"],[47.5,14.199999809265137,209.0,4600.0,\"FEMALE\"],[47.5,14.0,212.0,4875.0,\"FEMALE\"],[46.400001525878906,15.0,216.0,4700.0,\"FEMALE\"],[45.5,14.5,212.0,4750.0,\"FEMALE\"],[43.5,14.199999809265137,220.0,4700.0,\"FEMALE\"],[47.70000076293945,15.0,216.0,4750.0,\"FEMALE\"],[45.29999923706055,13.699999809265137,210.0,4300.0,\"FEMALE\"],[43.79999923706055,13.899999618530273,208.0,4300.0,\"FEMALE\"],[45.79999923706055,14.199999809265137,219.0,4700.0,\"FEMALE\"],[41.70000076293945,14.699999809265137,210.0,4700.0,\"FEMALE\"],[43.5,15.199999809265137,213.0,4650.0,\"FEMALE\"],[42.70000076293945,13.699999809265137,208.0,3950.0,\"FEMALE\"],[46.20000076293945,14.5,209.0,4800.0,\"FEMALE\"],[42.0,13.5,210.0,4150.0,\"FEMALE\"],[46.20000076293945,14.100000381469727,217.0,4375.0,\"FEMALE\"],[45.79999923706055,14.600000381469727,210.0,4200.0,\"FEMALE\"],[45.5,13.699999809265137,214.0,4650.0,\"FEMALE\"],[45.099998474121094,14.5,215.0,5000.0,\"FEMALE\"],[40.900001525878906,13.699999809265137,214.0,4650.0,\"FEMALE\"],[47.20000076293945,13.699999809265137,214.0,4925.0,\"FEMALE\"],[45.400001525878906,14.600000381469727,211.0,4800.0,\"FEMALE\"],[46.5,13.5,210.0,4550.0,\"FEMALE\"],[46.79999923706055,14.300000190734863,215.0,4850.0,\"FEMALE\"],[48.70000076293945,14.100000381469727,210.0,4450.0,\"FEMALE\"],[46.099998474121094,13.199999809265137,211.0,4500.0,\"FEMALE\"],[43.29999923706055,13.399999618530273,209.0,4400.0,\"FEMALE\"],[46.5,14.5,213.0,4400.0,\"FEMALE\"],[44.900001525878906,13.800000190734863,212.0,4750.0,\"FEMALE\"],[42.900001525878906,13.100000381469727,215.0,5000.0,\"FEMALE\"],[50.5,15.199999809265137,216.0,5000.0,\"FEMALE\"],[44.0,13.600000381469727,208.0,4350.0,\"FEMALE\"],[45.20000076293945,14.800000190734863,212.0,5200.0,\"FEMALE\"],[48.20000076293945,14.300000190734863,210.0,4600.0,\"FEMALE\"],[43.29999923706055,14.0,208.0,4575.0,\"FEMALE\"],[42.599998474121094,13.699999809265137,213.0,4950.0,\"FEMALE\"],[49.099998474121094,14.800000190734863,220.0,5150.0,\"FEMALE\"],[45.099998474121094,14.5,207.0,5050.0,\"FEMALE\"],[42.79999923706055,14.199999809265137,209.0,4700.0,\"FEMALE\"]],\"hovertemplate\":\"Cluster=%{x}\\u003cbr\\u003eculmen_length_mm=%{customdata[0]}\\u003cbr\\u003eculmen_depth_mm=%{customdata[1]}\\u003cbr\\u003eflipper_length_mm=%{customdata[2]}\\u003cbr\\u003ebody_mass_g=%{customdata[3]}\\u003cbr\\u003esex=%{customdata[4]}\\u003cextra\\u003e\\u003c\\u002fextra\\u003e\",\"legendgroup\":\"Cluster 5\",\"marker\":{\"color\":\"#FF6692\"},\"name\":\"Cluster 5\",\"notched\":true,\"offsetgroup\":\"Cluster 5\",\"showlegend\":false,\"x\":[\"Cluster 5\",\"Cluster 5\",\"Cluster 5\",\"Cluster 5\",\"Cluster 5\",\"Cluster 5\",\"Cluster 5\",\"Cluster 5\",\"Cluster 5\",\"Cluster 5\",\"Cluster 5\",\"Cluster 5\",\"Cluster 5\",\"Cluster 5\",\"Cluster 5\",\"Cluster 5\",\"Cluster 5\",\"Cluster 5\",\"Cluster 5\",\"Cluster 5\",\"Cluster 5\",\"Cluster 5\",\"Cluster 5\",\"Cluster 5\",\"Cluster 5\",\"Cluster 5\",\"Cluster 5\",\"Cluster 5\",\"Cluster 5\",\"Cluster 5\",\"Cluster 5\",\"Cluster 5\",\"Cluster 5\",\"Cluster 5\",\"Cluster 5\",\"Cluster 5\",\"Cluster 5\",\"Cluster 5\",\"Cluster 5\",\"Cluster 5\",\"Cluster 5\",\"Cluster 5\",\"Cluster 5\",\"Cluster 5\",\"Cluster 5\",\"Cluster 5\",\"Cluster 5\",\"Cluster 5\",\"Cluster 5\",\"Cluster 5\",\"Cluster 5\",\"Cluster 5\",\"Cluster 5\",\"Cluster 5\",\"Cluster 5\",\"Cluster 5\",\"Cluster 5\",\"Cluster 5\"],\"xaxis\":\"x2\",\"yaxis\":\"y2\",\"type\":\"box\"},{\"alignmentgroup\":\"True\",\"bingroup\":\"x\",\"hovertemplate\":\"Cluster=%{x}\\u003cbr\\u003ecount=%{y}\\u003cextra\\u003e\\u003c\\u002fextra\\u003e\",\"legendgroup\":\"Cluster 6\",\"marker\":{\"color\":\"#B6E880\",\"opacity\":0.7,\"pattern\":{\"shape\":\"\"}},\"name\":\"Cluster 6\",\"offsetgroup\":\"Cluster 6\",\"orientation\":\"v\",\"showlegend\":true,\"x\":[\"Cluster 6\",\"Cluster 6\",\"Cluster 6\",\"Cluster 6\",\"Cluster 6\",\"Cluster 6\",\"Cluster 6\",\"Cluster 6\",\"Cluster 6\",\"Cluster 6\",\"Cluster 6\",\"Cluster 6\",\"Cluster 6\",\"Cluster 6\",\"Cluster 6\",\"Cluster 6\",\"Cluster 6\",\"Cluster 6\",\"Cluster 6\",\"Cluster 6\",\"Cluster 6\",\"Cluster 6\",\"Cluster 6\",\"Cluster 6\",\"Cluster 6\",\"Cluster 6\",\"Cluster 6\",\"Cluster 6\",\"Cluster 6\",\"Cluster 6\",\"Cluster 6\",\"Cluster 6\",\"Cluster 6\",\"Cluster 6\",\"Cluster 6\",\"Cluster 6\",\"Cluster 6\",\"Cluster 6\",\"Cluster 6\",\"Cluster 6\",\"Cluster 6\",\"Cluster 6\",\"Cluster 6\",\"Cluster 6\",\"Cluster 6\",\"Cluster 6\",\"Cluster 6\",\"Cluster 6\",\"Cluster 6\",\"Cluster 6\",\"Cluster 6\",\"Cluster 6\",\"Cluster 6\",\"Cluster 6\"],\"xaxis\":\"x\",\"yaxis\":\"y\",\"type\":\"histogram\"},{\"alignmentgroup\":\"True\",\"customdata\":[[49.79999923706055,15.899999618530273,229.0,5950.0,\"MALE\"],[49.099998474121094,15.0,228.0,5500.0,\"MALE\"],[50.400001525878906,15.699999809265137,222.0,5750.0,\"MALE\"],[50.79999923706055,17.299999237060547,228.0,5600.0,\"MALE\"],[52.099998474121094,17.0,230.0,5550.0,\"MALE\"],[49.400001525878906,15.800000190734863,216.0,4925.0,\"MALE\"],[51.099998474121094,16.5,225.0,5250.0,\"MALE\"],[53.400001525878906,15.800000190734863,219.0,5500.0,\"MALE\"],[52.20000076293945,17.100000381469727,228.0,5400.0,\"MALE\"],[48.099998474121094,15.100000381469727,209.0,5500.0,\"MALE\"],[49.5,16.100000381469727,224.0,5650.0,\"MALE\"],[51.5,16.299999237060547,230.0,5500.0,\"MALE\"],[50.79999923706055,15.699999809265137,226.0,5200.0,\"MALE\"],[48.79999923706055,16.200000762939453,222.0,6000.0,\"MALE\"],[46.79999923706055,16.100000381469727,215.0,5500.0,\"MALE\"],[45.0,15.399999618530273,220.0,5050.0,\"MALE\"],[52.5,15.600000381469727,221.0,5450.0,\"MALE\"],[47.29999923706055,15.300000190734863,222.0,5250.0,\"MALE\"],[50.0,15.300000190734863,220.0,5550.0,\"MALE\"],[47.79999923706055,15.0,215.0,5650.0,\"MALE\"],[46.099998474121094,15.100000381469727,215.0,5100.0,\"MALE\"],[46.29999923706055,15.800000190734863,215.0,5050.0,\"MALE\"],[50.20000076293945,14.300000190734863,218.0,5700.0,\"MALE\"],[48.70000076293945,15.100000381469727,222.0,5350.0,\"MALE\"],[49.29999923706055,15.699999809265137,217.0,5850.0,\"MALE\"],[48.400001525878906,14.600000381469727,213.0,5850.0,\"MALE\"],[49.0,16.100000381469727,216.0,5550.0,\"MALE\"],[46.79999923706055,15.399999618530273,215.0,5150.0,\"MALE\"],[46.70000076293945,15.300000190734863,219.0,5200.0,\"MALE\"],[47.599998474121094,14.5,215.0,5400.0,\"MALE\"],[50.0,15.199999809265137,218.0,5700.0,\"MALE\"],[50.0,16.299999237060547,230.0,5700.0,\"MALE\"],[48.400001525878906,16.299999237060547,220.0,5400.0,\"MALE\"],[48.70000076293945,15.699999809265137,208.0,5350.0,\"MALE\"],[49.599998474121094,16.0,225.0,5700.0,\"MALE\"],[49.599998474121094,15.0,216.0,4750.0,\"MALE\"],[51.099998474121094,16.299999237060547,220.0,6000.0,\"MALE\"],[48.599998474121094,16.0,230.0,5800.0,\"MALE\"],[48.20000076293945,15.600000381469727,221.0,5100.0,\"MALE\"],[46.400001525878906,15.600000381469727,221.0,5000.0,\"MALE\"],[50.70000076293945,15.0,223.0,5550.0,\"MALE\"],[49.5,16.200000762939453,229.0,5800.0,\"MALE\"],[49.79999923706055,16.799999237060547,230.0,5700.0,\"MALE\"],[50.0,15.899999618530273,224.0,5350.0,\"MALE\"],[54.29999923706055,15.699999809265137,231.0,5650.0,\"MALE\"],[50.400001525878906,15.300000190734863,224.0,5550.0,\"MALE\"],[45.5,15.0,220.0,5000.0,\"MALE\"],[50.099998474121094,15.0,225.0,5000.0,\"MALE\"],[48.5,14.100000381469727,220.0,5300.0,\"MALE\"],[45.20000076293945,15.800000190734863,215.0,5300.0,\"MALE\"],[50.5,15.899999618530273,225.0,5400.0,\"MALE\"],[50.5,15.899999618530273,222.0,5550.0,\"MALE\"],[46.20000076293945,14.899999618530273,221.0,5300.0,\"MALE\"],[49.900001525878906,16.100000381469727,213.0,5400.0,\"MALE\"]],\"hovertemplate\":\"Cluster=%{x}\\u003cbr\\u003eculmen_length_mm=%{customdata[0]}\\u003cbr\\u003eculmen_depth_mm=%{customdata[1]}\\u003cbr\\u003eflipper_length_mm=%{customdata[2]}\\u003cbr\\u003ebody_mass_g=%{customdata[3]}\\u003cbr\\u003esex=%{customdata[4]}\\u003cextra\\u003e\\u003c\\u002fextra\\u003e\",\"legendgroup\":\"Cluster 6\",\"marker\":{\"color\":\"#B6E880\"},\"name\":\"Cluster 6\",\"notched\":true,\"offsetgroup\":\"Cluster 6\",\"showlegend\":false,\"x\":[\"Cluster 6\",\"Cluster 6\",\"Cluster 6\",\"Cluster 6\",\"Cluster 6\",\"Cluster 6\",\"Cluster 6\",\"Cluster 6\",\"Cluster 6\",\"Cluster 6\",\"Cluster 6\",\"Cluster 6\",\"Cluster 6\",\"Cluster 6\",\"Cluster 6\",\"Cluster 6\",\"Cluster 6\",\"Cluster 6\",\"Cluster 6\",\"Cluster 6\",\"Cluster 6\",\"Cluster 6\",\"Cluster 6\",\"Cluster 6\",\"Cluster 6\",\"Cluster 6\",\"Cluster 6\",\"Cluster 6\",\"Cluster 6\",\"Cluster 6\",\"Cluster 6\",\"Cluster 6\",\"Cluster 6\",\"Cluster 6\",\"Cluster 6\",\"Cluster 6\",\"Cluster 6\",\"Cluster 6\",\"Cluster 6\",\"Cluster 6\",\"Cluster 6\",\"Cluster 6\",\"Cluster 6\",\"Cluster 6\",\"Cluster 6\",\"Cluster 6\",\"Cluster 6\",\"Cluster 6\",\"Cluster 6\",\"Cluster 6\",\"Cluster 6\",\"Cluster 6\",\"Cluster 6\",\"Cluster 6\"],\"xaxis\":\"x2\",\"yaxis\":\"y2\",\"type\":\"box\"}],                        {\"template\":{\"data\":{\"histogram2dcontour\":[{\"type\":\"histogram2dcontour\",\"colorbar\":{\"outlinewidth\":0,\"ticks\":\"\"},\"colorscale\":[[0.0,\"#0d0887\"],[0.1111111111111111,\"#46039f\"],[0.2222222222222222,\"#7201a8\"],[0.3333333333333333,\"#9c179e\"],[0.4444444444444444,\"#bd3786\"],[0.5555555555555556,\"#d8576b\"],[0.6666666666666666,\"#ed7953\"],[0.7777777777777778,\"#fb9f3a\"],[0.8888888888888888,\"#fdca26\"],[1.0,\"#f0f921\"]]}],\"choropleth\":[{\"type\":\"choropleth\",\"colorbar\":{\"outlinewidth\":0,\"ticks\":\"\"}}],\"histogram2d\":[{\"type\":\"histogram2d\",\"colorbar\":{\"outlinewidth\":0,\"ticks\":\"\"},\"colorscale\":[[0.0,\"#0d0887\"],[0.1111111111111111,\"#46039f\"],[0.2222222222222222,\"#7201a8\"],[0.3333333333333333,\"#9c179e\"],[0.4444444444444444,\"#bd3786\"],[0.5555555555555556,\"#d8576b\"],[0.6666666666666666,\"#ed7953\"],[0.7777777777777778,\"#fb9f3a\"],[0.8888888888888888,\"#fdca26\"],[1.0,\"#f0f921\"]]}],\"heatmap\":[{\"type\":\"heatmap\",\"colorbar\":{\"outlinewidth\":0,\"ticks\":\"\"},\"colorscale\":[[0.0,\"#0d0887\"],[0.1111111111111111,\"#46039f\"],[0.2222222222222222,\"#7201a8\"],[0.3333333333333333,\"#9c179e\"],[0.4444444444444444,\"#bd3786\"],[0.5555555555555556,\"#d8576b\"],[0.6666666666666666,\"#ed7953\"],[0.7777777777777778,\"#fb9f3a\"],[0.8888888888888888,\"#fdca26\"],[1.0,\"#f0f921\"]]}],\"heatmapgl\":[{\"type\":\"heatmapgl\",\"colorbar\":{\"outlinewidth\":0,\"ticks\":\"\"},\"colorscale\":[[0.0,\"#0d0887\"],[0.1111111111111111,\"#46039f\"],[0.2222222222222222,\"#7201a8\"],[0.3333333333333333,\"#9c179e\"],[0.4444444444444444,\"#bd3786\"],[0.5555555555555556,\"#d8576b\"],[0.6666666666666666,\"#ed7953\"],[0.7777777777777778,\"#fb9f3a\"],[0.8888888888888888,\"#fdca26\"],[1.0,\"#f0f921\"]]}],\"contourcarpet\":[{\"type\":\"contourcarpet\",\"colorbar\":{\"outlinewidth\":0,\"ticks\":\"\"}}],\"contour\":[{\"type\":\"contour\",\"colorbar\":{\"outlinewidth\":0,\"ticks\":\"\"},\"colorscale\":[[0.0,\"#0d0887\"],[0.1111111111111111,\"#46039f\"],[0.2222222222222222,\"#7201a8\"],[0.3333333333333333,\"#9c179e\"],[0.4444444444444444,\"#bd3786\"],[0.5555555555555556,\"#d8576b\"],[0.6666666666666666,\"#ed7953\"],[0.7777777777777778,\"#fb9f3a\"],[0.8888888888888888,\"#fdca26\"],[1.0,\"#f0f921\"]]}],\"surface\":[{\"type\":\"surface\",\"colorbar\":{\"outlinewidth\":0,\"ticks\":\"\"},\"colorscale\":[[0.0,\"#0d0887\"],[0.1111111111111111,\"#46039f\"],[0.2222222222222222,\"#7201a8\"],[0.3333333333333333,\"#9c179e\"],[0.4444444444444444,\"#bd3786\"],[0.5555555555555556,\"#d8576b\"],[0.6666666666666666,\"#ed7953\"],[0.7777777777777778,\"#fb9f3a\"],[0.8888888888888888,\"#fdca26\"],[1.0,\"#f0f921\"]]}],\"mesh3d\":[{\"type\":\"mesh3d\",\"colorbar\":{\"outlinewidth\":0,\"ticks\":\"\"}}],\"scatter\":[{\"fillpattern\":{\"fillmode\":\"overlay\",\"size\":10,\"solidity\":0.2},\"type\":\"scatter\"}],\"parcoords\":[{\"type\":\"parcoords\",\"line\":{\"colorbar\":{\"outlinewidth\":0,\"ticks\":\"\"}}}],\"scatterpolargl\":[{\"type\":\"scatterpolargl\",\"marker\":{\"colorbar\":{\"outlinewidth\":0,\"ticks\":\"\"}}}],\"bar\":[{\"error_x\":{\"color\":\"#2a3f5f\"},\"error_y\":{\"color\":\"#2a3f5f\"},\"marker\":{\"line\":{\"color\":\"#E5ECF6\",\"width\":0.5},\"pattern\":{\"fillmode\":\"overlay\",\"size\":10,\"solidity\":0.2}},\"type\":\"bar\"}],\"scattergeo\":[{\"type\":\"scattergeo\",\"marker\":{\"colorbar\":{\"outlinewidth\":0,\"ticks\":\"\"}}}],\"scatterpolar\":[{\"type\":\"scatterpolar\",\"marker\":{\"colorbar\":{\"outlinewidth\":0,\"ticks\":\"\"}}}],\"histogram\":[{\"marker\":{\"pattern\":{\"fillmode\":\"overlay\",\"size\":10,\"solidity\":0.2}},\"type\":\"histogram\"}],\"scattergl\":[{\"type\":\"scattergl\",\"marker\":{\"colorbar\":{\"outlinewidth\":0,\"ticks\":\"\"}}}],\"scatter3d\":[{\"type\":\"scatter3d\",\"line\":{\"colorbar\":{\"outlinewidth\":0,\"ticks\":\"\"}},\"marker\":{\"colorbar\":{\"outlinewidth\":0,\"ticks\":\"\"}}}],\"scattermapbox\":[{\"type\":\"scattermapbox\",\"marker\":{\"colorbar\":{\"outlinewidth\":0,\"ticks\":\"\"}}}],\"scatterternary\":[{\"type\":\"scatterternary\",\"marker\":{\"colorbar\":{\"outlinewidth\":0,\"ticks\":\"\"}}}],\"scattercarpet\":[{\"type\":\"scattercarpet\",\"marker\":{\"colorbar\":{\"outlinewidth\":0,\"ticks\":\"\"}}}],\"carpet\":[{\"aaxis\":{\"endlinecolor\":\"#2a3f5f\",\"gridcolor\":\"white\",\"linecolor\":\"white\",\"minorgridcolor\":\"white\",\"startlinecolor\":\"#2a3f5f\"},\"baxis\":{\"endlinecolor\":\"#2a3f5f\",\"gridcolor\":\"white\",\"linecolor\":\"white\",\"minorgridcolor\":\"white\",\"startlinecolor\":\"#2a3f5f\"},\"type\":\"carpet\"}],\"table\":[{\"cells\":{\"fill\":{\"color\":\"#EBF0F8\"},\"line\":{\"color\":\"white\"}},\"header\":{\"fill\":{\"color\":\"#C8D4E3\"},\"line\":{\"color\":\"white\"}},\"type\":\"table\"}],\"barpolar\":[{\"marker\":{\"line\":{\"color\":\"#E5ECF6\",\"width\":0.5},\"pattern\":{\"fillmode\":\"overlay\",\"size\":10,\"solidity\":0.2}},\"type\":\"barpolar\"}],\"pie\":[{\"automargin\":true,\"type\":\"pie\"}]},\"layout\":{\"autotypenumbers\":\"strict\",\"colorway\":[\"#636efa\",\"#EF553B\",\"#00cc96\",\"#ab63fa\",\"#FFA15A\",\"#19d3f3\",\"#FF6692\",\"#B6E880\",\"#FF97FF\",\"#FECB52\"],\"font\":{\"color\":\"#2a3f5f\"},\"hovermode\":\"closest\",\"hoverlabel\":{\"align\":\"left\"},\"paper_bgcolor\":\"white\",\"plot_bgcolor\":\"#E5ECF6\",\"polar\":{\"bgcolor\":\"#E5ECF6\",\"angularaxis\":{\"gridcolor\":\"white\",\"linecolor\":\"white\",\"ticks\":\"\"},\"radialaxis\":{\"gridcolor\":\"white\",\"linecolor\":\"white\",\"ticks\":\"\"}},\"ternary\":{\"bgcolor\":\"#E5ECF6\",\"aaxis\":{\"gridcolor\":\"white\",\"linecolor\":\"white\",\"ticks\":\"\"},\"baxis\":{\"gridcolor\":\"white\",\"linecolor\":\"white\",\"ticks\":\"\"},\"caxis\":{\"gridcolor\":\"white\",\"linecolor\":\"white\",\"ticks\":\"\"}},\"coloraxis\":{\"colorbar\":{\"outlinewidth\":0,\"ticks\":\"\"}},\"colorscale\":{\"sequential\":[[0.0,\"#0d0887\"],[0.1111111111111111,\"#46039f\"],[0.2222222222222222,\"#7201a8\"],[0.3333333333333333,\"#9c179e\"],[0.4444444444444444,\"#bd3786\"],[0.5555555555555556,\"#d8576b\"],[0.6666666666666666,\"#ed7953\"],[0.7777777777777778,\"#fb9f3a\"],[0.8888888888888888,\"#fdca26\"],[1.0,\"#f0f921\"]],\"sequentialminus\":[[0.0,\"#0d0887\"],[0.1111111111111111,\"#46039f\"],[0.2222222222222222,\"#7201a8\"],[0.3333333333333333,\"#9c179e\"],[0.4444444444444444,\"#bd3786\"],[0.5555555555555556,\"#d8576b\"],[0.6666666666666666,\"#ed7953\"],[0.7777777777777778,\"#fb9f3a\"],[0.8888888888888888,\"#fdca26\"],[1.0,\"#f0f921\"]],\"diverging\":[[0,\"#8e0152\"],[0.1,\"#c51b7d\"],[0.2,\"#de77ae\"],[0.3,\"#f1b6da\"],[0.4,\"#fde0ef\"],[0.5,\"#f7f7f7\"],[0.6,\"#e6f5d0\"],[0.7,\"#b8e186\"],[0.8,\"#7fbc41\"],[0.9,\"#4d9221\"],[1,\"#276419\"]]},\"xaxis\":{\"gridcolor\":\"white\",\"linecolor\":\"white\",\"ticks\":\"\",\"title\":{\"standoff\":15},\"zerolinecolor\":\"white\",\"automargin\":true,\"zerolinewidth\":2},\"yaxis\":{\"gridcolor\":\"white\",\"linecolor\":\"white\",\"ticks\":\"\",\"title\":{\"standoff\":15},\"zerolinecolor\":\"white\",\"automargin\":true,\"zerolinewidth\":2},\"scene\":{\"xaxis\":{\"backgroundcolor\":\"#E5ECF6\",\"gridcolor\":\"white\",\"linecolor\":\"white\",\"showbackground\":true,\"ticks\":\"\",\"zerolinecolor\":\"white\",\"gridwidth\":2},\"yaxis\":{\"backgroundcolor\":\"#E5ECF6\",\"gridcolor\":\"white\",\"linecolor\":\"white\",\"showbackground\":true,\"ticks\":\"\",\"zerolinecolor\":\"white\",\"gridwidth\":2},\"zaxis\":{\"backgroundcolor\":\"#E5ECF6\",\"gridcolor\":\"white\",\"linecolor\":\"white\",\"showbackground\":true,\"ticks\":\"\",\"zerolinecolor\":\"white\",\"gridwidth\":2}},\"shapedefaults\":{\"line\":{\"color\":\"#2a3f5f\"}},\"annotationdefaults\":{\"arrowcolor\":\"#2a3f5f\",\"arrowhead\":0,\"arrowwidth\":1},\"geo\":{\"bgcolor\":\"white\",\"landcolor\":\"#E5ECF6\",\"subunitcolor\":\"white\",\"showland\":true,\"showlakes\":true,\"lakecolor\":\"white\"},\"title\":{\"x\":0.05},\"mapbox\":{\"style\":\"light\"}}},\"xaxis\":{\"anchor\":\"y\",\"domain\":[0.0,1.0],\"categoryorder\":\"array\",\"categoryarray\":[\"Cluster -1\",\"Cluster 0\",\"Cluster 1\",\"Cluster 2\",\"Cluster 3\",\"Cluster 4\",\"Cluster 5\",\"Cluster 6\"],\"title\":{\"text\":\"Cluster\"}},\"yaxis\":{\"anchor\":\"x\",\"domain\":[0.0,0.7326],\"title\":{\"text\":\"count\"}},\"xaxis2\":{\"anchor\":\"y2\",\"domain\":[0.0,1.0],\"matches\":\"x\",\"showticklabels\":false,\"showgrid\":true},\"yaxis2\":{\"anchor\":\"x2\",\"domain\":[0.7426,1.0],\"matches\":\"y2\",\"showticklabels\":false,\"showline\":false,\"ticks\":\"\",\"showgrid\":false},\"legend\":{\"title\":{\"text\":\"Cluster\"},\"tracegroupgap\":0},\"margin\":{\"t\":60},\"barmode\":\"relative\",\"height\":600},                        {\"responsive\": true}                    ).then(function(){\n",
              "                            \n",
              "var gd = document.getElementById('e5cd441f-066f-4eb4-93fa-3b850daca826');\n",
              "var x = new MutationObserver(function (mutations, observer) {{\n",
              "        var display = window.getComputedStyle(gd).display;\n",
              "        if (!display || display === 'none') {{\n",
              "            console.log([gd, 'removed!']);\n",
              "            Plotly.purge(gd);\n",
              "            observer.disconnect();\n",
              "        }}\n",
              "}});\n",
              "\n",
              "// Listen for the removal of the full notebook cells\n",
              "var notebookContainer = gd.closest('#notebook-container');\n",
              "if (notebookContainer) {{\n",
              "    x.observe(notebookContainer, {childList: true});\n",
              "}}\n",
              "\n",
              "// Listen for the clearing of the current output cell\n",
              "var outputEl = gd.closest('.output');\n",
              "if (outputEl) {{\n",
              "    x.observe(outputEl, {childList: true});\n",
              "}}\n",
              "\n",
              "                        })                };                            </script>        </div>\n",
              "</body>\n",
              "</html>"
            ]
          },
          "metadata": {}
        }
      ]
    },
    {
      "cell_type": "markdown",
      "source": [
        "Analysis Summary\n",
        "\n",
        "- The clustering process has identified different groups in the penguin dataset, with some data points marked as outliers (Cluster -1).\n",
        "- The evaluation metrics suggest that while there is some separation between clusters, it's not highly distinct. The presence of outliers and moderate silhouette score indicates the clusters are not very dense or well-separated.\n",
        "- The preprocessing steps, particularly normalization and handling of missing values, have been crucial in preparing the data for clustering.\n",
        "- Given the nature of DBSCAN to form clusters based on density, the identification of outliers is an expected outcome, especially in datasets with some degree of variance or noise."
      ],
      "metadata": {
        "id": "GuJYRcnR23_V"
      }
    }
  ]
}